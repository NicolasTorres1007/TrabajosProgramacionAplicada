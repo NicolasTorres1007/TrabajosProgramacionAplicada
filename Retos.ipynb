{
  "nbformat": 4,
  "nbformat_minor": 0,
  "metadata": {
    "colab": {
      "name": "Retos.ipynb",
      "provenance": [],
      "authorship_tag": "ABX9TyN3Mez5L9VKdfSpSN3LBGss",
      "include_colab_link": true
    },
    "kernelspec": {
      "name": "python3",
      "display_name": "Python 3"
    },
    "language_info": {
      "name": "python"
    }
  },
  "cells": [
    {
      "cell_type": "markdown",
      "metadata": {
        "id": "view-in-github",
        "colab_type": "text"
      },
      "source": [
        "<a href=\"https://colab.research.google.com/github/NicolasTorres1007/TrabajosProgramacionAplicada/blob/main/Retos.ipynb\" target=\"_parent\"><img src=\"https://colab.research.google.com/assets/colab-badge.svg\" alt=\"Open In Colab\"/></a>"
      ]
    },
    {
      "cell_type": "markdown",
      "source": [
        "**Reto #6**"
      ],
      "metadata": {
        "id": "rK-BLSIZhItk"
      }
    },
    {
      "cell_type": "code",
      "source": [
        "import random #Importación de librería random para la generación del número aleatorio\n",
        "\n",
        "numero = random.randint(1, 120) # Generacion del número aleatorio\n",
        "\n",
        "#Verificación número aleatorio\n",
        "print(\"Numero Aleatorio: \",numero)\n",
        "\n",
        "#Intervalos del número generado\n",
        "if numero >= 10 and numero <= 50:\n",
        "  print(\"El número generado se encuentra en un intervalo entre 10 y 50\")\n",
        "\n",
        "elif  numero >= 50 and numero <= 100:\n",
        "  print(\"El número generado se encuentra en un intervalo entre 50 y 100\")\n",
        "\n",
        "elif numero > 100:\n",
        "  print(\"El número generado es mayor que 100\")\n",
        "\n",
        "elif numero < 10:\n",
        "  print(\"El número generado es menor que 10\")\n",
        "     "
      ],
      "metadata": {
        "id": "T4Ef3iRLhblz"
      },
      "execution_count": null,
      "outputs": []
    },
    {
      "cell_type": "markdown",
      "source": [
        "**Reto #8**\n"
      ],
      "metadata": {
        "id": "-hGEeFQ9snWD"
      }
    },
    {
      "cell_type": "code",
      "source": [
        "numeros = [10,11,12,13,14,15,16,17,18,19,20] #Lista de números del 10 al 20\n",
        "\n",
        "#Ciclo imprimir números pares de la lista\n",
        "for i in numeros:\n",
        "  par = i % 2\n",
        "  if par == 0:\n",
        "    print(i)"
      ],
      "metadata": {
        "id": "TpfyathJsuoG"
      },
      "execution_count": null,
      "outputs": []
    },
    {
      "cell_type": "markdown",
      "source": [
        "**Reto #9** \n"
      ],
      "metadata": {
        "id": "ZVBRmWyc3spM"
      }
    },
    {
      "cell_type": "code",
      "source": [
        "i=1 #Valor inicial\n",
        "f=50 #Valor final\n",
        "intervalo=4\n",
        "total=0 #Variable para acumular los números y sumarlos\n",
        "#Ciclo para sumar cada número en los intervalos\n",
        "for n in range(i,f,intervalo):\n",
        "  total= total + n \n",
        "  print(n)\n",
        "print('La suma es:',total)"
      ],
      "metadata": {
        "id": "eqjCCjS85kkz"
      },
      "execution_count": null,
      "outputs": []
    },
    {
      "cell_type": "markdown",
      "source": [
        "**Reto #10** *Solucionado con método #1* "
      ],
      "metadata": {
        "id": "CNAt_R5AGqs4"
      }
    },
    {
      "cell_type": "code",
      "source": [
        "s=0\n",
        "for i in range(8*8):\n",
        "  s+=2**i\n",
        "  print(i+1,2**i,s)\n",
        "print(\"En notación científica es %e,\\n y el total es: %E granos de trigo.\" % (2**i,s))"
      ],
      "metadata": {
        "id": "PHx9eBaFGuM3"
      },
      "execution_count": null,
      "outputs": []
    },
    {
      "cell_type": "markdown",
      "source": [
        "**Reto #13**"
      ],
      "metadata": {
        "id": "KB-DhmDDcsqd"
      }
    },
    {
      "cell_type": "code",
      "source": [
        "#El usuario puede ingresar los números para calcular la media entre ellos\n",
        "num1 = input(\"Número 1: \")\n",
        "num2 = input(\"Número 2: \")\n",
        "#Cálculo de media entre los dos numeros\n",
        "media = (float(num1) + float(num2)) / 2\n",
        "\n",
        "print(\"La media entre los dos números es: \", media)\n"
      ],
      "metadata": {
        "colab": {
          "base_uri": "https://localhost:8080/"
        },
        "id": "claDRC7XcuuN",
        "outputId": "c685a29c-74e6-4f3b-ef18-e1b4e108e29f"
      },
      "execution_count": 34,
      "outputs": [
        {
          "output_type": "stream",
          "name": "stdout",
          "text": [
            "Número 1: 3\n",
            "Número 2: 4\n",
            "La media entre los dos números es:  3.5\n"
          ]
        }
      ]
    },
    {
      "cell_type": "markdown",
      "source": [
        "**Reto #15**"
      ],
      "metadata": {
        "id": "b-UlHkzcjKeK"
      }
    },
    {
      "cell_type": "code",
      "source": [
        "import random\n",
        "a = 0 #Inicializamos el contador de la suma de los numeros generados\n",
        "b = int(input(\"¿Cuantos números desea generar?: \"))#Aqui se pide la cantidad de numeros para clacular la media\n",
        "\n",
        "#Ciclo para acumular y sumar los numeros generados\n",
        "for i in range(b):\n",
        "  numero = random.randint(0, 1000)\n",
        "  a = a + numero\n",
        "  print(numero)\n",
        "#Calculo de la media\n",
        "media = a / b\n",
        "print(\"La media entre los numeros es: \", media)\n",
        "  \n",
        "\n"
      ],
      "metadata": {
        "id": "3IPkJQX1jP6i"
      },
      "execution_count": null,
      "outputs": []
    },
    {
      "cell_type": "markdown",
      "source": [
        "**Reto #17**"
      ],
      "metadata": {
        "id": "RMWAd34Bn2VZ"
      }
    },
    {
      "cell_type": "code",
      "source": [
        "import random\n",
        "num = random.randint(1,100)#Generamos el número aleatorio\n",
        "b = 0 #Inicializamos la variable b para tener una forma de finalizar el ciclo while\n",
        "#print(num) # Activar esta linea de código para la verificación del número aleatorio\n",
        "while b == 0:\n",
        "  intento = int(input(\"Adivina el número: \"))\n",
        "#Indicación si el usuario gano, o esta cerca del resultado\n",
        "  if intento == num:\n",
        "    b = 1\n",
        "    print(\"¡¡ LO ADIVINASTE !!\")\n",
        "  elif intento > num:\n",
        "   print(\"**El número es menor**\")\n",
        "  elif intento < num:\n",
        "   print(\"**El número es mayor**\")\n",
        "\n"
      ],
      "metadata": {
        "id": "69TJ-Do0n6Eu"
      },
      "execution_count": null,
      "outputs": []
    },
    {
      "cell_type": "markdown",
      "source": [
        "**Reto #20** *Solucionado con método #1*"
      ],
      "metadata": {
        "id": "kXXFIsfgvpgh"
      }
    },
    {
      "cell_type": "code",
      "source": [
        "def bisiesto(x):\n",
        "  if x%4==0 and (not(x%100==0) or x%400==0 ):\n",
        "    texto='es bisiesto.'\n",
        "  else:\n",
        "    texto='es un año NO bisiesto.'\n",
        "  return texto\n",
        "x=int(input('Introduzca un año entre 1600 y 2500:'))\n",
        "print(x,bisiesto(x))"
      ],
      "metadata": {
        "colab": {
          "base_uri": "https://localhost:8080/"
        },
        "id": "32sb_QaIvtHU",
        "outputId": "af501815-a1e2-4fe5-c621-1701d244e19e"
      },
      "execution_count": 19,
      "outputs": [
        {
          "output_type": "stream",
          "name": "stdout",
          "text": [
            "Introduzca un año entre 1600 y 2500:1750\n",
            "1750 es un año NO bisiesto.\n"
          ]
        }
      ]
    },
    {
      "cell_type": "markdown",
      "source": [
        "**Reto #26**"
      ],
      "metadata": {
        "id": "o5wSo7Ksxx-S"
      }
    },
    {
      "cell_type": "code",
      "source": [
        "import random\n",
        "\n",
        "a = random.randint(1000000, 2000000)#Generamos el número aleatorio\n",
        "#Hacemos la conversión de un número int a una lista de dígitos\n",
        "num = str(a)\n",
        "num2 = map(int, num)\n",
        "lista_num = list(num2)\n",
        "print(lista_num)#Imprimimos la lista para confirmar el número\n",
        "#Iniciamos el ciclo con el rango único que tiene cada número\n",
        "for i in range(7) :\n",
        "  if lista_num[i] % 2 == 0:#Verificamos si es par con el módulo\n",
        "    print(lista_num[i], \", Es par\")\n",
        "  elif lista_num[i] % 2 == 1:#Verificamos si es impar con el módulo\n",
        "   print(lista_num[i], \", Es impar\")\n",
        "\n",
        "\n",
        "\n"
      ],
      "metadata": {
        "id": "1CyM8Korx0es"
      },
      "execution_count": null,
      "outputs": []
    }
  ]
}