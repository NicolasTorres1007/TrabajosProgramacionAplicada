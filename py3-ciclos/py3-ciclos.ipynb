{
  "nbformat": 4,
  "nbformat_minor": 0,
  "metadata": {
    "colab": {
      "name": "py3-ciclos.ipynb",
      "provenance": [],
      "authorship_tag": "ABX9TyMQWHYV56HMXVphcABLDQ01",
      "include_colab_link": true
    },
    "kernelspec": {
      "name": "python3",
      "display_name": "Python 3"
    },
    "language_info": {
      "name": "python"
    }
  },
  "cells": [
    {
      "cell_type": "markdown",
      "metadata": {
        "id": "view-in-github",
        "colab_type": "text"
      },
      "source": [
        "<a href=\"https://colab.research.google.com/github/NicolasTorres1007/TrabajosProgramacionAplicada/blob/main/py3-ciclos/py3-ciclos.ipynb\" target=\"_parent\"><img src=\"https://colab.research.google.com/assets/colab-badge.svg\" alt=\"Open In Colab\"/></a>"
      ]
    },
    {
      "cell_type": "markdown",
      "metadata": {
        "id": "VMXXASNgI1Oh"
      },
      "source": [
        "\n",
        "\n",
        "> Ejercicio #1\n",
        "\n",
        "\n"
      ]
    },
    {
      "cell_type": "code",
      "metadata": {
        "id": "a4a8C4sA_RsT"
      },
      "source": [
        "def sumatoria_1(A,B,C):\n",
        "  n = len(A)\n",
        "  acumulador = 0\n",
        "  for i in range(n):\n",
        "    d = A[i]*B[i]\n",
        "    e = d + C[i]\n",
        "    acumulador = acumulador + e\n",
        "  resultado = acumulador + n**2\n",
        "  return resultado\n"
      ],
      "execution_count": 11,
      "outputs": []
    },
    {
      "cell_type": "code",
      "metadata": {
        "colab": {
          "base_uri": "https://localhost:8080/"
        },
        "id": "mKGTlZ-yGbuZ",
        "outputId": "0fd29dcc-4a6b-4213-94d0-e5824f367731"
      },
      "source": [
        "A = [1,2,3]\n",
        "B = [4,8,2]\n",
        "C = [7,4,3]\n",
        "sumatoria_1(A,B,C)\n"
      ],
      "execution_count": 12,
      "outputs": [
        {
          "output_type": "execute_result",
          "data": {
            "text/plain": [
              "49"
            ]
          },
          "metadata": {},
          "execution_count": 12
        }
      ]
    },
    {
      "cell_type": "markdown",
      "metadata": {
        "id": "qYrS4YrlI7m_"
      },
      "source": [
        "Ejercicio #2"
      ]
    },
    {
      "cell_type": "code",
      "metadata": {
        "id": "GnHpKiz2I9js"
      },
      "source": [
        "def llena_lista_1(A,B):\n",
        "  n = len(A)//2\n",
        "  C = []\n",
        "  for i in range(n):\n",
        "    d = A[i+1]**2\n",
        "    e = B[i*2]\n",
        "    f = (d*e) + B[n+i]\n",
        "    C.append(f)\n",
        "\n",
        "  return C\n",
        "\n"
      ],
      "execution_count": 17,
      "outputs": []
    },
    {
      "cell_type": "code",
      "metadata": {
        "colab": {
          "base_uri": "https://localhost:8080/"
        },
        "id": "4dctjp1yPt--",
        "outputId": "2a3f2c79-434c-4e14-bcf0-f16c16bfc4b0"
      },
      "source": [
        "A = [5,4,8,9]\n",
        "B = [3,1,6,4]\n",
        "llena_lista_1(A,B)"
      ],
      "execution_count": 18,
      "outputs": [
        {
          "output_type": "execute_result",
          "data": {
            "text/plain": [
              "[54, 388]"
            ]
          },
          "metadata": {},
          "execution_count": 18
        }
      ]
    }
  ]
}