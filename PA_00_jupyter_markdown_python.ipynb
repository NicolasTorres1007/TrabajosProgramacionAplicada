{
  "nbformat": 4,
  "nbformat_minor": 0,
  "metadata": {
    "kernelspec": {
      "display_name": "Python 3",
      "language": "python",
      "name": "python3"
    },
    "language_info": {
      "codemirror_mode": {
        "name": "ipython",
        "version": 3
      },
      "file_extension": ".py",
      "mimetype": "text/x-python",
      "name": "python",
      "nbconvert_exporter": "python",
      "pygments_lexer": "ipython3",
      "version": "3.7.4"
    },
    "colab": {
      "name": "PA_00_jupyter_markdown_python.ipynb",
      "provenance": [],
      "include_colab_link": true
    }
  },
  "cells": [
    {
      "cell_type": "markdown",
      "metadata": {
        "id": "view-in-github",
        "colab_type": "text"
      },
      "source": [
        "<a href=\"https://colab.research.google.com/github/NicolasTorres1007/TrabajosProgramacionAplicada/blob/main/PA_00_jupyter_markdown_python.ipynb\" target=\"_parent\"><img src=\"https://colab.research.google.com/assets/colab-badge.svg\" alt=\"Open In Colab\"/></a>"
      ]
    },
    {
      "cell_type": "markdown",
      "metadata": {
        "id": "0ydCmiWpRwMY"
      },
      "source": [
        "# Universidad Distrital F. J. C.\n",
        "## Facultad De Ingeniería\n",
        "### Programación Aplicada\n",
        "#### Gerardo Muñoz\n",
        "gmunoz@udistrital.edu.co"
      ]
    },
    {
      "cell_type": "markdown",
      "metadata": {
        "id": "XrcV3toiRwMe"
      },
      "source": [
        "<!-- De acuerdo con lo que veo en Condor:\n",
        "*\tEl 35% del primer corte ya está definido.\n",
        "*\tEl 30% del laboratorio lo asigna el profesor de la práctica.\n",
        "*\tEl 35% de la nota del curso se propone definir de la siguiente manera:\n",
        "  *\t20% Participación en clase en el chat de Discord.\n",
        "  *\t15% Examen.\n",
        "  \n",
        "La participación se realiza haciendo un aporte al tema expuesto en la clase. Por ejemplo:\n",
        "*\tPuede dar un ejemplo del tema visto donde se produzca un error y como se corrige. Si varios estudiantes tienen el mismo error en el mismo tema, tienen menor nota.\n",
        "*\tPueden complementar la presentación del profesor con opciones o variaciones que no fueron explicadas de alguna función explicada en clase. (En Python abundan estas opciones)\n",
        "*\tSi se indica en la clase, puede modificar la aplicación presentada.\n",
        "*\tOtra opción que sea pertinente.\n",
        "\n",
        "Se espera un mínimo de una participación pertinente por cada clase de febrero para sacar 5.0. \n",
        "\n",
        "En estos momentos estoy configurando un servidor en Discord con los chats, para realizar las participaciones en clase. \n",
        "\n",
        "A cualquier hora pueden escribirme al correo gmunoz@udistrital.edu.co. Usualmente respondo en las primeras 24 horas. -->"
      ]
    },
    {
      "cell_type": "markdown",
      "metadata": {
        "id": "uNZCopdgRwMg"
      },
      "source": [
        "# Introducción al curso de Programación Aplicada\n"
      ]
    },
    {
      "cell_type": "markdown",
      "metadata": {
        "id": "lbbqpQhmRwMh"
      },
      "source": [
        "# Jupyter\n",
        "\n",
        "Un cuaderno de Jupyter tiene celdas de **texto** y celdas de **código**. En la nube vamos a usar:\n",
        "\n",
        "http://colab.research.google.com/notebooks/intro.ipynb\n",
        "\n",
        "También es posible instalar Jupyter en su computador cuando se instala Python. \n",
        "\n",
        "Las celdas de texto usan el formato Markdown. "
      ]
    },
    {
      "cell_type": "markdown",
      "metadata": {
        "id": "MwodlJa-RwMi"
      },
      "source": [
        "### Ejercicio\n",
        "1. Abrir un cuaderno de Jupyter en Google Colab.\n",
        "2. Escribir una operación en la celda de código. `1 + 1`\n",
        "3. Ejecutar la operación con el triángulo de la izquierda.\n",
        "4. Crear una nueva celda de texto.\n",
        "5. Escribir en la nueva celda el título `# Título`.\n",
        "6. Crear otra celda, pero de código.\n",
        "7. Escribir en esta otra celda la operación `0/0`.\n",
        "8. Ejecutar esta otra celda."
      ]
    },
    {
      "cell_type": "code",
      "metadata": {
        "colab": {
          "base_uri": "https://localhost:8080/"
        },
        "id": "sbdE3L3oRwMi",
        "outputId": "f1effd8a-d86c-49a2-b7d5-35a6cb050db9"
      },
      "source": [
        "1+1"
      ],
      "execution_count": 9,
      "outputs": [
        {
          "output_type": "execute_result",
          "data": {
            "text/plain": [
              "2"
            ]
          },
          "metadata": {},
          "execution_count": 9
        }
      ]
    },
    {
      "cell_type": "markdown",
      "metadata": {
        "id": "JcnwdmUhRwMk"
      },
      "source": [
        "# Título"
      ]
    },
    {
      "cell_type": "code",
      "metadata": {
        "id": "PSrWB7A_RwMk"
      },
      "source": [
        "#0/0"
      ],
      "execution_count": 10,
      "outputs": []
    },
    {
      "cell_type": "code",
      "metadata": {
        "id": "C8PStNTBRwMl"
      },
      "source": [
        "#0=0"
      ],
      "execution_count": 11,
      "outputs": []
    },
    {
      "cell_type": "code",
      "metadata": {
        "id": "EMnA__iJRwMl"
      },
      "source": [
        "#*0"
      ],
      "execution_count": 12,
      "outputs": []
    },
    {
      "cell_type": "markdown",
      "metadata": {
        "id": "wNrnFiUBRwMm"
      },
      "source": [
        "# Markdown\n",
        "\n",
        "\n",
        "En Markdown se pueden colocar diferentes niveles de subtítulos como los siguientes:\n",
        "\n",
        "## Título 2\n",
        "###### Título 6\n",
        "\n",
        "También se puede usar letra *itálica* y se puede escribir _también así_. De manera análoga se define la letra **negrilla** __de dos formas__\n",
        "\n",
        "\n",
        "Se pueden colocar viñetas de diferentes niveles\n",
        "* Nivel 1 ítem a\n",
        "  * Nivel 2 ítem b \n",
        "  * Nivel 2 ítem c \n",
        "* Nivel 1 ítem d\n",
        "  * Nivel 2 ítem e \n",
        "    * Nivel 3 ítem f \n",
        "\n",
        "Al igual que  listas numeradas    \n",
        "1. Nivel 1 ítem a\n",
        "  1. Nivel 2 ítem b \n",
        "  1. Nivel 2 ítem c \n",
        "1. Nivel 1 ítem d\n",
        "  1. Nivel 2 ítem e \n",
        "    1. Nivel 3 ítem f \n",
        "\n",
        "\n",
        "También es posible colocar `código`, En particular vamos a ver el código que generó esta sección.\n",
        "\n",
        "```\n",
        "En Markdown se pueden colocar diferentes niveles de subtítulos como los siguientes:\n",
        "\n",
        "## Título 2\n",
        "###### Título 6\n",
        "\n",
        "También se puede usar letra *itálica* y se puede escribir _también así_. De manera análoga se define la letra **negrilla** __de dos formas__\n",
        "\n",
        "\n",
        "Se pueden colocar viñetas de diferentes niveles\n",
        "* Nivel 1 ítem a\n",
        "  * Nivel 2 ítem b \n",
        "  * Nivel 2 ítem c \n",
        "* Nivel 1 ítem d\n",
        "  * Nivel 2 ítem e \n",
        "    * Nivel 3 ítem f \n",
        "\n",
        "Al igual que listas numeradas    \n",
        "1. Nivel 1 ítem a\n",
        "  1. Nivel 2 ítem b \n",
        "  1. Nivel 2 ítem c \n",
        "1. Nivel 1 ítem d\n",
        "  1. Nivel 2 ítem e \n",
        "    1. Nivel 3 ítem f \n",
        "```"
      ]
    },
    {
      "cell_type": "markdown",
      "metadata": {
        "id": "2aL40d4TRwMm"
      },
      "source": [
        "# Introducción\n",
        "\n",
        "## ¿Por qué usar Python?\n",
        "\n",
        "* Lenguaje sencillo y fácil de entender\n",
        "* Tiene librerías poderosas:\n",
        "  *  `numpy` para procesamiento de arreglos \n",
        "  *  `matplotlib` para graficar\n",
        "  *  `scikit-learn` para aprendizaje por máquinas\n",
        "  *  `keras` para aprendizaje profundo\n",
        "  *  `opencv` para procesamiento de imágenes\n",
        "  *  `sympy` para procesamiento simbólico\n",
        "  *  `flask` y `django` para desarrollo Web.\n",
        "  *  entre muchas otras.\n",
        "* Usado en tarjetas para IoT\n",
        "\n",
        "## ¿Cuáles características tiene Python?\n",
        "* Interpretado, no compilado \n",
        "* Abundancia de documentación y tutoriales. Además, cuenta con la función `help(...)`.     \n",
        "* Muy eficiente en el desarrollo de prototipos. \n",
        "* Programas extensos requieren herramientas adicionales para depurar.\n"
      ]
    },
    {
      "cell_type": "markdown",
      "metadata": {
        "id": "yYsD_FoPRwMn"
      },
      "source": [
        "# Python\n",
        "\n",
        "\n",
        "## Tipos numéricos\n",
        "### `int`. Ejemplos: `0`, `1`, `-2`.\n",
        "### `float`. Ejemplos: `0.0`, `1.0`, `-2.0`, `3.14`, `0.05`, `3.08e-5`,`-5e4`.\n",
        "### Operaciones: `+`, `-`, `*`,`**` , `/`, `//`, `%` "
      ]
    },
    {
      "cell_type": "code",
      "metadata": {
        "colab": {
          "base_uri": "https://localhost:8080/"
        },
        "id": "hgu9OJvMRwMo",
        "outputId": "85573faa-8ec5-48ce-f196-fd851488e4a0"
      },
      "source": [
        "2**3"
      ],
      "execution_count": 13,
      "outputs": [
        {
          "output_type": "execute_result",
          "data": {
            "text/plain": [
              "8"
            ]
          },
          "metadata": {},
          "execution_count": 13
        }
      ]
    },
    {
      "cell_type": "code",
      "metadata": {
        "colab": {
          "base_uri": "https://localhost:8080/"
        },
        "id": "UocRnW_TRwMo",
        "outputId": "5c1d511a-fa24-43f6-eabb-b7d4a1f2c577"
      },
      "source": [
        "13//4"
      ],
      "execution_count": 14,
      "outputs": [
        {
          "output_type": "execute_result",
          "data": {
            "text/plain": [
              "3"
            ]
          },
          "metadata": {},
          "execution_count": 14
        }
      ]
    },
    {
      "cell_type": "code",
      "metadata": {
        "colab": {
          "base_uri": "https://localhost:8080/"
        },
        "id": "TreQITihRwMp",
        "outputId": "b655585f-bc39-401d-c73e-ee66b3f25761"
      },
      "source": [
        "13%4"
      ],
      "execution_count": 15,
      "outputs": [
        {
          "output_type": "execute_result",
          "data": {
            "text/plain": [
              "1"
            ]
          },
          "metadata": {},
          "execution_count": 15
        }
      ]
    },
    {
      "cell_type": "markdown",
      "metadata": {
        "id": "8CXzoaPGRwMq"
      },
      "source": [
        "### `bool`: `True`, `False`.\n",
        "### Comparadores: `<`,`>`,`<=`,`>=`,`==`,`!=`"
      ]
    },
    {
      "cell_type": "code",
      "metadata": {
        "colab": {
          "base_uri": "https://localhost:8080/"
        },
        "id": "5uQgw4HgRwMr",
        "outputId": "f50f21cd-a18a-4212-cb72-5ab2957a03b4"
      },
      "source": [
        "1<1"
      ],
      "execution_count": 16,
      "outputs": [
        {
          "output_type": "execute_result",
          "data": {
            "text/plain": [
              "False"
            ]
          },
          "metadata": {},
          "execution_count": 16
        }
      ]
    },
    {
      "cell_type": "code",
      "metadata": {
        "colab": {
          "base_uri": "https://localhost:8080/"
        },
        "id": "cnONkemnRwMr",
        "outputId": "6cf9be92-54a9-4615-fe29-223273017ef0"
      },
      "source": [
        "1<=1"
      ],
      "execution_count": 17,
      "outputs": [
        {
          "output_type": "execute_result",
          "data": {
            "text/plain": [
              "True"
            ]
          },
          "metadata": {},
          "execution_count": 17
        }
      ]
    },
    {
      "cell_type": "code",
      "metadata": {
        "colab": {
          "base_uri": "https://localhost:8080/"
        },
        "id": "2HKFFAh5RwMs",
        "outputId": "86be2e30-8402-4008-f2cb-520160297398"
      },
      "source": [
        "1==1"
      ],
      "execution_count": 18,
      "outputs": [
        {
          "output_type": "execute_result",
          "data": {
            "text/plain": [
              "True"
            ]
          },
          "metadata": {},
          "execution_count": 18
        }
      ]
    },
    {
      "cell_type": "code",
      "metadata": {
        "colab": {
          "base_uri": "https://localhost:8080/"
        },
        "id": "vRMoegRmRwMs",
        "outputId": "c1ae5d48-2d3c-433f-d3de-678739c433e1"
      },
      "source": [
        "1!=1"
      ],
      "execution_count": 19,
      "outputs": [
        {
          "output_type": "execute_result",
          "data": {
            "text/plain": [
              "False"
            ]
          },
          "metadata": {},
          "execution_count": 19
        }
      ]
    },
    {
      "cell_type": "markdown",
      "metadata": {
        "id": "W6RXep2RRwMs"
      },
      "source": [
        "### Operaciones: `and`,`or`,`not`"
      ]
    },
    {
      "cell_type": "code",
      "metadata": {
        "colab": {
          "base_uri": "https://localhost:8080/"
        },
        "id": "nfMGC7BcRwMt",
        "outputId": "7ad9a94c-fe2b-403f-c724-3f345aa76c3c"
      },
      "source": [
        "1<2 and 2<1"
      ],
      "execution_count": 20,
      "outputs": [
        {
          "output_type": "execute_result",
          "data": {
            "text/plain": [
              "False"
            ]
          },
          "metadata": {},
          "execution_count": 20
        }
      ]
    },
    {
      "cell_type": "code",
      "metadata": {
        "colab": {
          "base_uri": "https://localhost:8080/"
        },
        "id": "r5LUB_plRwMt",
        "outputId": "d4da9a58-67fe-44ca-fb99-bc6ed261f7f7"
      },
      "source": [
        "1<2 or 2<1"
      ],
      "execution_count": 21,
      "outputs": [
        {
          "output_type": "execute_result",
          "data": {
            "text/plain": [
              "True"
            ]
          },
          "metadata": {},
          "execution_count": 21
        }
      ]
    },
    {
      "cell_type": "code",
      "metadata": {
        "colab": {
          "base_uri": "https://localhost:8080/"
        },
        "id": "EXKJf19nRwMt",
        "outputId": "75865974-a2b8-4adb-a445-d5844100ffc9"
      },
      "source": [
        "1<2 and not(2<1)"
      ],
      "execution_count": 22,
      "outputs": [
        {
          "output_type": "execute_result",
          "data": {
            "text/plain": [
              "True"
            ]
          },
          "metadata": {},
          "execution_count": 22
        }
      ]
    },
    {
      "cell_type": "markdown",
      "metadata": {
        "id": "eWGmX-ebRwMt"
      },
      "source": [
        "### Algunas funciones incorporadas de Python: `abs(x)`, `max(x,y)`, `min(x,y)`, `pow(x,y)`, `round(x,n)`"
      ]
    },
    {
      "cell_type": "code",
      "metadata": {
        "colab": {
          "base_uri": "https://localhost:8080/"
        },
        "id": "toZVWlu7RwMu",
        "outputId": "670f343b-3854-4d41-f278-fa712ce5ca3f"
      },
      "source": [
        "max(3,6,2)"
      ],
      "execution_count": 23,
      "outputs": [
        {
          "output_type": "execute_result",
          "data": {
            "text/plain": [
              "6"
            ]
          },
          "metadata": {},
          "execution_count": 23
        }
      ]
    },
    {
      "cell_type": "markdown",
      "metadata": {
        "id": "6cp6NJf-RwMu"
      },
      "source": [
        "## Variables"
      ]
    },
    {
      "cell_type": "code",
      "metadata": {
        "colab": {
          "base_uri": "https://localhost:8080/"
        },
        "id": "JPrVmTjuRwMu",
        "outputId": "7fe70255-6ec4-4bf5-982d-fa0758a8ca32"
      },
      "source": [
        "a=5\n",
        "a"
      ],
      "execution_count": 24,
      "outputs": [
        {
          "output_type": "execute_result",
          "data": {
            "text/plain": [
              "5"
            ]
          },
          "metadata": {},
          "execution_count": 24
        }
      ]
    },
    {
      "cell_type": "code",
      "metadata": {
        "colab": {
          "base_uri": "https://localhost:8080/"
        },
        "id": "nxHNDIS3RwMu",
        "outputId": "5e7bcffb-4df9-4d79-c7f3-196e094f8d3d"
      },
      "source": [
        "b=6\n",
        "b"
      ],
      "execution_count": 25,
      "outputs": [
        {
          "output_type": "execute_result",
          "data": {
            "text/plain": [
              "6"
            ]
          },
          "metadata": {},
          "execution_count": 25
        }
      ]
    },
    {
      "cell_type": "code",
      "metadata": {
        "colab": {
          "base_uri": "https://localhost:8080/"
        },
        "id": "1VfeK4s2RwMv",
        "outputId": "8c7fb421-91d8-48b4-bfaf-cdefd56841d5"
      },
      "source": [
        "b>a"
      ],
      "execution_count": 26,
      "outputs": [
        {
          "output_type": "execute_result",
          "data": {
            "text/plain": [
              "True"
            ]
          },
          "metadata": {},
          "execution_count": 26
        }
      ]
    },
    {
      "cell_type": "code",
      "metadata": {
        "colab": {
          "base_uri": "https://localhost:8080/"
        },
        "id": "zGXBttMiRwMv",
        "outputId": "11fbf28e-4b94-48dd-fdad-5629fbfdab3e"
      },
      "source": [
        "c = b>a\n",
        "c"
      ],
      "execution_count": 27,
      "outputs": [
        {
          "output_type": "execute_result",
          "data": {
            "text/plain": [
              "True"
            ]
          },
          "metadata": {},
          "execution_count": 27
        }
      ]
    },
    {
      "cell_type": "code",
      "metadata": {
        "colab": {
          "base_uri": "https://localhost:8080/"
        },
        "id": "jtAXyK_yRwMv",
        "outputId": "6f84980a-29ab-48f3-fb77-9aacbf50db49"
      },
      "source": [
        "numero_de_estrellas_en_el_universo = 1000000000000000000000 + 1\n",
        "numero_de_estrellas_en_el_universo"
      ],
      "execution_count": 28,
      "outputs": [
        {
          "output_type": "execute_result",
          "data": {
            "text/plain": [
              "1000000000000000000001"
            ]
          },
          "metadata": {},
          "execution_count": 28
        }
      ]
    },
    {
      "cell_type": "markdown",
      "metadata": {
        "id": "20kK1rm9RwMw"
      },
      "source": [
        "##  `def`\n",
        "Se utiliza para definir funciones"
      ]
    },
    {
      "cell_type": "code",
      "metadata": {
        "colab": {
          "base_uri": "https://localhost:8080/"
        },
        "id": "bqSd2j8yRwMw",
        "outputId": "259c067c-9ecf-4d44-9e4b-aadcdce37362"
      },
      "source": [
        "def conv_automoviles_y_ciclas_en_ruedas(numero_de_automoviles,numero_de_ciclas):\n",
        "    numero_de_ruedas = numero_de_automoviles * 4 + numero_de_ciclas * 2\n",
        "    return numero_de_ruedas\n",
        "\n",
        "conv_automoviles_y_ciclas_en_ruedas(3,6)"
      ],
      "execution_count": 29,
      "outputs": [
        {
          "output_type": "execute_result",
          "data": {
            "text/plain": [
              "24"
            ]
          },
          "metadata": {},
          "execution_count": 29
        }
      ]
    },
    {
      "cell_type": "code",
      "metadata": {
        "colab": {
          "base_uri": "https://localhost:8080/"
        },
        "id": "g52llZ1PRwMw",
        "outputId": "d7d7b654-01a5-4c53-d66a-27fe920b38ce"
      },
      "source": [
        "conv_automoviles_y_ciclas_en_ruedas(1,0)"
      ],
      "execution_count": 30,
      "outputs": [
        {
          "output_type": "execute_result",
          "data": {
            "text/plain": [
              "4"
            ]
          },
          "metadata": {},
          "execution_count": 30
        }
      ]
    },
    {
      "cell_type": "markdown",
      "metadata": {
        "id": "2kSrrcr2RwMx"
      },
      "source": [
        "## `if`, `elif`, `else`"
      ]
    },
    {
      "cell_type": "markdown",
      "metadata": {
        "id": "Q8qnyF2cRwMx"
      },
      "source": [
        "\n",
        "Aunque Python tiene definida la función de valor absoluto. Se va a definir nuevamente como un ejemplo, algo explícito, de `if`.\n",
        "\n",
        "$abs(a)=\\left\\{\\matrix{a & \\text{ si } a > 0 \\\\0 & \\text{ si } a = 0 \\\\ -a & \\text{ si } a < 0  }\\right.$"
      ]
    },
    {
      "cell_type": "code",
      "metadata": {
        "id": "1ZsoMw-gRwMx"
      },
      "source": [
        "def valor_absoluto(a):\n",
        "    if a>0:\n",
        "        return a\n",
        "    elif a == 0:\n",
        "        return 0\n",
        "    else:\n",
        "        return -a"
      ],
      "execution_count": 31,
      "outputs": []
    },
    {
      "cell_type": "code",
      "metadata": {
        "colab": {
          "base_uri": "https://localhost:8080/"
        },
        "id": "CXOQR_f2RwMx",
        "outputId": "aea1d338-e947-43e1-cce5-3f0fe3acd289"
      },
      "source": [
        "valor_absoluto(5.3)"
      ],
      "execution_count": 32,
      "outputs": [
        {
          "output_type": "execute_result",
          "data": {
            "text/plain": [
              "5.3"
            ]
          },
          "metadata": {},
          "execution_count": 32
        }
      ]
    },
    {
      "cell_type": "code",
      "metadata": {
        "colab": {
          "base_uri": "https://localhost:8080/"
        },
        "id": "hxiI6Hw7RwMy",
        "outputId": "0e06ab0b-5726-4e76-a3ad-7e90bf618a1a"
      },
      "source": [
        "valor_absoluto(-7)"
      ],
      "execution_count": 33,
      "outputs": [
        {
          "output_type": "execute_result",
          "data": {
            "text/plain": [
              "7"
            ]
          },
          "metadata": {},
          "execution_count": 33
        }
      ]
    },
    {
      "cell_type": "code",
      "metadata": {
        "colab": {
          "base_uri": "https://localhost:8080/"
        },
        "id": "3Na5f44jRwMy",
        "outputId": "4e47e36e-f8ff-4d1f-ef4c-6aacd69f2ead"
      },
      "source": [
        "valor_absoluto(-5.6e-8)"
      ],
      "execution_count": 34,
      "outputs": [
        {
          "output_type": "execute_result",
          "data": {
            "text/plain": [
              "5.6e-08"
            ]
          },
          "metadata": {},
          "execution_count": 34
        }
      ]
    },
    {
      "cell_type": "markdown",
      "metadata": {
        "id": "O0GgWVOLRwMy"
      },
      "source": [
        "# while"
      ]
    },
    {
      "cell_type": "code",
      "metadata": {
        "colab": {
          "base_uri": "https://localhost:8080/"
        },
        "id": "-Fo4JsxPRwMy",
        "outputId": "525f6ba6-2888-459c-be76-00226e3ea69c"
      },
      "source": [
        "def busca_divisor(num):\n",
        "    if abs(num) <= 1:\n",
        "        return 1\n",
        "    \n",
        "    div = abs(num)-1\n",
        "    while  num%div != 0 :\n",
        "        div = div - 1\n",
        "    return div\n",
        "        \n",
        "busca_divisor(100)"
      ],
      "execution_count": 35,
      "outputs": [
        {
          "output_type": "execute_result",
          "data": {
            "text/plain": [
              "50"
            ]
          },
          "metadata": {},
          "execution_count": 35
        }
      ]
    },
    {
      "cell_type": "code",
      "metadata": {
        "colab": {
          "base_uri": "https://localhost:8080/"
        },
        "id": "4-vboTDfRwMy",
        "outputId": "8f3d187e-33de-4495-b033-5b41d1543056"
      },
      "source": [
        "busca_divisor(2)"
      ],
      "execution_count": 36,
      "outputs": [
        {
          "output_type": "execute_result",
          "data": {
            "text/plain": [
              "1"
            ]
          },
          "metadata": {},
          "execution_count": 36
        }
      ]
    },
    {
      "cell_type": "code",
      "metadata": {
        "colab": {
          "base_uri": "https://localhost:8080/"
        },
        "id": "xqBsehKKRwMz",
        "outputId": "3037d7a2-eb08-4edd-951e-f43e3fe4eaec"
      },
      "source": [
        "busca_divisor(1)"
      ],
      "execution_count": 37,
      "outputs": [
        {
          "output_type": "execute_result",
          "data": {
            "text/plain": [
              "1"
            ]
          },
          "metadata": {},
          "execution_count": 37
        }
      ]
    },
    {
      "cell_type": "code",
      "metadata": {
        "colab": {
          "base_uri": "https://localhost:8080/"
        },
        "id": "T8v5YsslRwMz",
        "outputId": "77de66fd-7c6d-4632-8716-367288adfd7c"
      },
      "source": [
        "busca_divisor(0)"
      ],
      "execution_count": 38,
      "outputs": [
        {
          "output_type": "execute_result",
          "data": {
            "text/plain": [
              "1"
            ]
          },
          "metadata": {},
          "execution_count": 38
        }
      ]
    },
    {
      "cell_type": "code",
      "metadata": {
        "colab": {
          "base_uri": "https://localhost:8080/"
        },
        "id": "mJufuStARwMz",
        "outputId": "21eee99b-579a-4c70-e43a-86bb8f1b1832"
      },
      "source": [
        "busca_divisor(-1)"
      ],
      "execution_count": 39,
      "outputs": [
        {
          "output_type": "execute_result",
          "data": {
            "text/plain": [
              "1"
            ]
          },
          "metadata": {},
          "execution_count": 39
        }
      ]
    },
    {
      "cell_type": "code",
      "metadata": {
        "colab": {
          "base_uri": "https://localhost:8080/"
        },
        "id": "NjOe5LLfRwMz",
        "outputId": "4dfb2d66-6ff3-4b8a-9255-d79d486865f8"
      },
      "source": [
        "busca_divisor(-2)"
      ],
      "execution_count": 40,
      "outputs": [
        {
          "output_type": "execute_result",
          "data": {
            "text/plain": [
              "1"
            ]
          },
          "metadata": {},
          "execution_count": 40
        }
      ]
    },
    {
      "cell_type": "code",
      "metadata": {
        "colab": {
          "base_uri": "https://localhost:8080/"
        },
        "id": "cOykyVOSRwM0",
        "outputId": "76320727-1268-450c-c6e1-846c9bb22fb1"
      },
      "source": [
        "busca_divisor(-3)"
      ],
      "execution_count": 41,
      "outputs": [
        {
          "output_type": "execute_result",
          "data": {
            "text/plain": [
              "1"
            ]
          },
          "metadata": {},
          "execution_count": 41
        }
      ]
    },
    {
      "cell_type": "code",
      "metadata": {
        "colab": {
          "base_uri": "https://localhost:8080/"
        },
        "id": "a4JntI4PRwM0",
        "outputId": "683e2070-e181-415f-81f3-a64c2a18905e"
      },
      "source": [
        "busca_divisor(-4)"
      ],
      "execution_count": 42,
      "outputs": [
        {
          "output_type": "execute_result",
          "data": {
            "text/plain": [
              "2"
            ]
          },
          "metadata": {},
          "execution_count": 42
        }
      ]
    },
    {
      "cell_type": "markdown",
      "metadata": {
        "id": "KWrbnjpARwM0"
      },
      "source": [
        "## `tuple`\n",
        "Una secuencia de datos, separados por coma, forman un tipo de dato llamado tupla (`tuple`), el cual no se puede modificar parcialmente. En algunos casos es recomendable colocar la tupla entre paréntesis."
      ]
    },
    {
      "cell_type": "code",
      "metadata": {
        "colab": {
          "base_uri": "https://localhost:8080/"
        },
        "id": "6j5QfUb9RwM0",
        "outputId": "3e596c8f-4cec-4dca-d45b-d8c05232ed43"
      },
      "source": [
        "v=11, 22, 35, 44\n",
        "v"
      ],
      "execution_count": 43,
      "outputs": [
        {
          "output_type": "execute_result",
          "data": {
            "text/plain": [
              "(11, 22, 35, 44)"
            ]
          },
          "metadata": {},
          "execution_count": 43
        }
      ]
    },
    {
      "cell_type": "code",
      "metadata": {
        "colab": {
          "base_uri": "https://localhost:8080/"
        },
        "id": "JmXHFEXeRwM5",
        "outputId": "1f8c9e97-1ba7-40a3-9dca-043226b3d25e"
      },
      "source": [
        "v[2]"
      ],
      "execution_count": 44,
      "outputs": [
        {
          "output_type": "execute_result",
          "data": {
            "text/plain": [
              "35"
            ]
          },
          "metadata": {},
          "execution_count": 44
        }
      ]
    },
    {
      "cell_type": "code",
      "metadata": {
        "colab": {
          "base_uri": "https://localhost:8080/"
        },
        "id": "tV7rzwWlRwM6",
        "outputId": "1aacc5af-6af0-48e5-b537-525adba7154d"
      },
      "source": [
        "#v[2]=33\n",
        "v"
      ],
      "execution_count": 45,
      "outputs": [
        {
          "output_type": "execute_result",
          "data": {
            "text/plain": [
              "(11, 22, 35, 44)"
            ]
          },
          "metadata": {},
          "execution_count": 45
        }
      ]
    },
    {
      "cell_type": "code",
      "metadata": {
        "colab": {
          "base_uri": "https://localhost:8080/"
        },
        "id": "oL_LjcUGRwM6",
        "outputId": "813ac95a-b48d-4939-e28e-d787ef0a4c55"
      },
      "source": [
        "v[-1]"
      ],
      "execution_count": 46,
      "outputs": [
        {
          "output_type": "execute_result",
          "data": {
            "text/plain": [
              "44"
            ]
          },
          "metadata": {},
          "execution_count": 46
        }
      ]
    },
    {
      "cell_type": "code",
      "metadata": {
        "scrolled": true,
        "colab": {
          "base_uri": "https://localhost:8080/"
        },
        "id": "av1GnMPVRwM6",
        "outputId": "09ac2fc9-40ae-48ac-bc17-f3764a3b90e9"
      },
      "source": [
        "v[1:3]"
      ],
      "execution_count": 47,
      "outputs": [
        {
          "output_type": "execute_result",
          "data": {
            "text/plain": [
              "(22, 35)"
            ]
          },
          "metadata": {},
          "execution_count": 47
        }
      ]
    },
    {
      "cell_type": "code",
      "metadata": {
        "colab": {
          "base_uri": "https://localhost:8080/"
        },
        "id": "TUnOyru3RwM7",
        "outputId": "70110e64-5be7-4419-c9ec-f0d752dae170"
      },
      "source": [
        "v[1:]"
      ],
      "execution_count": 48,
      "outputs": [
        {
          "output_type": "execute_result",
          "data": {
            "text/plain": [
              "(22, 35, 44)"
            ]
          },
          "metadata": {},
          "execution_count": 48
        }
      ]
    },
    {
      "cell_type": "code",
      "metadata": {
        "colab": {
          "base_uri": "https://localhost:8080/"
        },
        "id": "Wo3Xx81JRwM7",
        "outputId": "388c028b-a138-4186-afbc-658910fac855"
      },
      "source": [
        "v[:3]"
      ],
      "execution_count": 49,
      "outputs": [
        {
          "output_type": "execute_result",
          "data": {
            "text/plain": [
              "(11, 22, 35)"
            ]
          },
          "metadata": {},
          "execution_count": 49
        }
      ]
    },
    {
      "cell_type": "markdown",
      "metadata": {
        "id": "jO6xn_7KRwM7"
      },
      "source": [
        "La concatenación de dos o más tuplas se realiza con el operador `+`"
      ]
    },
    {
      "cell_type": "code",
      "metadata": {
        "colab": {
          "base_uri": "https://localhost:8080/"
        },
        "id": "sz0znlXxRwM7",
        "outputId": "4e37c683-a378-4f84-a31b-9342435e05b1"
      },
      "source": [
        "(3,4) + (5,7)"
      ],
      "execution_count": 50,
      "outputs": [
        {
          "output_type": "execute_result",
          "data": {
            "text/plain": [
              "(3, 4, 5, 7)"
            ]
          },
          "metadata": {},
          "execution_count": 50
        }
      ]
    },
    {
      "cell_type": "code",
      "metadata": {
        "colab": {
          "base_uri": "https://localhost:8080/"
        },
        "id": "6_a5bwDdRwM8",
        "outputId": "7480f781-b9e7-4168-f286-fef38ab4e5a7"
      },
      "source": [
        "3, 4+5, 7"
      ],
      "execution_count": 51,
      "outputs": [
        {
          "output_type": "execute_result",
          "data": {
            "text/plain": [
              "(3, 9, 7)"
            ]
          },
          "metadata": {},
          "execution_count": 51
        }
      ]
    },
    {
      "cell_type": "markdown",
      "metadata": {
        "id": "CbwyaG-_RwM8"
      },
      "source": [
        "Una tupla se puede repetir usando el operador `*`"
      ]
    },
    {
      "cell_type": "code",
      "metadata": {
        "colab": {
          "base_uri": "https://localhost:8080/"
        },
        "id": "WCcwPw0wRwM8",
        "outputId": "290a6fe7-789d-424f-ae16-671c0278fe18"
      },
      "source": [
        "v* 4"
      ],
      "execution_count": 52,
      "outputs": [
        {
          "output_type": "execute_result",
          "data": {
            "text/plain": [
              "(11, 22, 35, 44, 11, 22, 35, 44, 11, 22, 35, 44, 11, 22, 35, 44)"
            ]
          },
          "metadata": {},
          "execution_count": 52
        }
      ]
    },
    {
      "cell_type": "markdown",
      "metadata": {
        "id": "HzcC5nyHRwM8"
      },
      "source": [
        "## `list`\n",
        "Una tupla (`tuple`) encerrada en corchetes define una lista (`list`) la cual sí permite modificar parcialmente."
      ]
    },
    {
      "cell_type": "code",
      "metadata": {
        "colab": {
          "base_uri": "https://localhost:8080/"
        },
        "id": "8XLQ9JdMRwM9",
        "outputId": "bfce3fab-36fa-465a-ff59-08ca98c5a09d"
      },
      "source": [
        "u=[11, 21, 35, 44]\n",
        "u"
      ],
      "execution_count": 53,
      "outputs": [
        {
          "output_type": "execute_result",
          "data": {
            "text/plain": [
              "[11, 21, 35, 44]"
            ]
          },
          "metadata": {},
          "execution_count": 53
        }
      ]
    },
    {
      "cell_type": "markdown",
      "metadata": {
        "id": "CX8hkgF9RwM9"
      },
      "source": [
        "Una de las principales diferencias entre las tuplas y las listas es que la lista se puede modificar (es mutable) pero la tupla no (es inmutable), esto la hace un poco más eficiente."
      ]
    },
    {
      "cell_type": "code",
      "metadata": {
        "colab": {
          "base_uri": "https://localhost:8080/"
        },
        "id": "OC5nKVWCRwM9",
        "outputId": "c832e553-7b97-48f7-ed1f-8cf85b6bb4b9"
      },
      "source": [
        "u=[11, 22, 35, 44]\n",
        "u"
      ],
      "execution_count": 54,
      "outputs": [
        {
          "output_type": "execute_result",
          "data": {
            "text/plain": [
              "[11, 22, 35, 44]"
            ]
          },
          "metadata": {},
          "execution_count": 54
        }
      ]
    },
    {
      "cell_type": "code",
      "metadata": {
        "colab": {
          "base_uri": "https://localhost:8080/"
        },
        "id": "QPw9K-DzRwM9",
        "outputId": "e1009ba1-dc7a-40fb-ad3b-e773a86f3d2b"
      },
      "source": [
        "u[2]"
      ],
      "execution_count": 55,
      "outputs": [
        {
          "output_type": "execute_result",
          "data": {
            "text/plain": [
              "35"
            ]
          },
          "metadata": {},
          "execution_count": 55
        }
      ]
    },
    {
      "cell_type": "code",
      "metadata": {
        "colab": {
          "base_uri": "https://localhost:8080/"
        },
        "id": "N3RJwiR2RwM9",
        "outputId": "cd91a5aa-e545-4b1c-b758-4bff5d19dd99"
      },
      "source": [
        "u[2]=33\n",
        "u"
      ],
      "execution_count": 56,
      "outputs": [
        {
          "output_type": "execute_result",
          "data": {
            "text/plain": [
              "[11, 22, 33, 44]"
            ]
          },
          "metadata": {},
          "execution_count": 56
        }
      ]
    },
    {
      "cell_type": "code",
      "metadata": {
        "colab": {
          "base_uri": "https://localhost:8080/"
        },
        "id": "v2tDoelIRwM-",
        "outputId": "73323657-dc0b-42e9-feb2-a1709846740a"
      },
      "source": [
        "u[-1]"
      ],
      "execution_count": 57,
      "outputs": [
        {
          "output_type": "execute_result",
          "data": {
            "text/plain": [
              "44"
            ]
          },
          "metadata": {},
          "execution_count": 57
        }
      ]
    },
    {
      "cell_type": "code",
      "metadata": {
        "scrolled": true,
        "colab": {
          "base_uri": "https://localhost:8080/"
        },
        "id": "RuFYVld7RwM-",
        "outputId": "9047379a-315e-4edc-ba98-99d56b003a7b"
      },
      "source": [
        "u[1:3]"
      ],
      "execution_count": 58,
      "outputs": [
        {
          "output_type": "execute_result",
          "data": {
            "text/plain": [
              "[22, 33]"
            ]
          },
          "metadata": {},
          "execution_count": 58
        }
      ]
    },
    {
      "cell_type": "code",
      "metadata": {
        "colab": {
          "base_uri": "https://localhost:8080/"
        },
        "id": "lmF66xc7RwM-",
        "outputId": "8e5f8f40-a2a4-4e76-b18a-08ebda6d5356"
      },
      "source": [
        "u[1:3]=88,99\n",
        "u"
      ],
      "execution_count": 59,
      "outputs": [
        {
          "output_type": "execute_result",
          "data": {
            "text/plain": [
              "[11, 88, 99, 44]"
            ]
          },
          "metadata": {},
          "execution_count": 59
        }
      ]
    },
    {
      "cell_type": "code",
      "metadata": {
        "colab": {
          "base_uri": "https://localhost:8080/"
        },
        "id": "2lVk-5SIRwM-",
        "outputId": "16536aa5-18ba-4ccb-dd8c-415f3a846c39"
      },
      "source": [
        "u[1:]"
      ],
      "execution_count": 60,
      "outputs": [
        {
          "output_type": "execute_result",
          "data": {
            "text/plain": [
              "[88, 99, 44]"
            ]
          },
          "metadata": {},
          "execution_count": 60
        }
      ]
    },
    {
      "cell_type": "code",
      "metadata": {
        "colab": {
          "base_uri": "https://localhost:8080/"
        },
        "id": "H_jRL1w9RwM-",
        "outputId": "3350037e-9470-4fe2-eda1-18e2456118eb"
      },
      "source": [
        "u[:3]"
      ],
      "execution_count": 61,
      "outputs": [
        {
          "output_type": "execute_result",
          "data": {
            "text/plain": [
              "[11, 88, 99]"
            ]
          },
          "metadata": {},
          "execution_count": 61
        }
      ]
    },
    {
      "cell_type": "code",
      "metadata": {
        "colab": {
          "base_uri": "https://localhost:8080/"
        },
        "id": "Ay5uQzuGRwM_",
        "outputId": "752b369d-2ffa-4596-b08b-91fa280e6654"
      },
      "source": [
        "u+u"
      ],
      "execution_count": 62,
      "outputs": [
        {
          "output_type": "execute_result",
          "data": {
            "text/plain": [
              "[11, 88, 99, 44, 11, 88, 99, 44]"
            ]
          },
          "metadata": {},
          "execution_count": 62
        }
      ]
    },
    {
      "cell_type": "code",
      "metadata": {
        "colab": {
          "base_uri": "https://localhost:8080/"
        },
        "id": "JZnOPAQbRwM_",
        "outputId": "a95ea654-a49c-40fa-b6a0-14e4d1d75841"
      },
      "source": [
        "u*4"
      ],
      "execution_count": 63,
      "outputs": [
        {
          "output_type": "execute_result",
          "data": {
            "text/plain": [
              "[11, 88, 99, 44, 11, 88, 99, 44, 11, 88, 99, 44, 11, 88, 99, 44]"
            ]
          },
          "metadata": {},
          "execution_count": 63
        }
      ]
    },
    {
      "cell_type": "markdown",
      "metadata": {
        "id": "Eghi6bHHRwM_"
      },
      "source": [
        "## `str`\n",
        "Una secuencia de caracteres se conoce como una cadena o _string_ (`str`). Esta se define con comillas dobles o sencillas. Este tipo de dato tampoco permite modificar parcialmente"
      ]
    },
    {
      "cell_type": "code",
      "metadata": {
        "colab": {
          "base_uri": "https://localhost:8080/",
          "height": 789
        },
        "id": "o5UegRL5RwM_",
        "outputId": "e2bca4a5-6481-4925-b289-e94bc27a227f"
      },
      "source": [
        "texto_1 = \"Usualmente aquí se escribe 'Hola Mundo'\"\n",
        "texto_1"
      ],
      "execution_count": 64,
      "outputs": [
        {
          "output_type": "execute_result",
          "data": {
            "application/vnd.google.colaboratory.intrinsic+json": {
              "type": "string"
            },
            "text/plain": [
              "\"Usualmente aquí se escribe 'Hola Mundo'\""
            ]
          },
          "metadata": {},
          "execution_count": 64
        }
      ]
    },
    {
      "cell_type": "code",
      "metadata": {
        "colab": {
          "base_uri": "https://localhost:8080/",
          "height": 771
        },
        "id": "n_JVVLBGRwNA",
        "outputId": "a857d166-5bcf-43e3-fb2c-2fb3898ad5b3"
      },
      "source": [
        "texto_2 = 'Usualmente aquí se escribe \"Hola Mundo\"'\n",
        "texto_2"
      ],
      "execution_count": 65,
      "outputs": [
        {
          "output_type": "execute_result",
          "data": {
            "application/vnd.google.colaboratory.intrinsic+json": {
              "type": "string"
            },
            "text/plain": [
              "'Usualmente aquí se escribe \"Hola Mundo\"'"
            ]
          },
          "metadata": {},
          "execution_count": 65
        }
      ]
    },
    {
      "cell_type": "code",
      "metadata": {
        "colab": {
          "base_uri": "https://localhost:8080/",
          "height": 165
        },
        "id": "wDfwbhdgRwNA",
        "outputId": "074fd175-b056-4cc7-af30-3d97c0df40ff"
      },
      "source": [
        "texto_1[11:15]"
      ],
      "execution_count": 66,
      "outputs": [
        {
          "output_type": "execute_result",
          "data": {
            "application/vnd.google.colaboratory.intrinsic+json": {
              "type": "string"
            },
            "text/plain": [
              "'aquí'"
            ]
          },
          "metadata": {},
          "execution_count": 66
        }
      ]
    },
    {
      "cell_type": "code",
      "metadata": {
        "id": "GAgwEBZDRwNA"
      },
      "source": [
        "#texto_1[11:15]='allá'"
      ],
      "execution_count": 67,
      "outputs": []
    },
    {
      "cell_type": "code",
      "metadata": {
        "colab": {
          "base_uri": "https://localhost:8080/",
          "height": 73
        },
        "id": "bcwPtKjfRwNA",
        "outputId": "8b2cd80d-50c9-42b2-b87a-987f8afeafa8"
      },
      "source": [
        "texto_1[-1]"
      ],
      "execution_count": 68,
      "outputs": [
        {
          "output_type": "execute_result",
          "data": {
            "application/vnd.google.colaboratory.intrinsic+json": {
              "type": "string"
            },
            "text/plain": [
              "\"'\""
            ]
          },
          "metadata": {},
          "execution_count": 68
        }
      ]
    },
    {
      "cell_type": "markdown",
      "metadata": {
        "id": "GwCHUrfFRwNA"
      },
      "source": [
        "Para presentar un texto se puede usar la función `print`"
      ]
    },
    {
      "cell_type": "code",
      "metadata": {
        "colab": {
          "base_uri": "https://localhost:8080/"
        },
        "id": "4BaMb3xQRwNB",
        "outputId": "54345ec3-6fb8-43fe-9015-2d2ce64d21cc"
      },
      "source": [
        "print(texto_1)"
      ],
      "execution_count": 69,
      "outputs": [
        {
          "output_type": "stream",
          "name": "stdout",
          "text": [
            "Usualmente aquí se escribe 'Hola Mundo'\n"
          ]
        }
      ]
    },
    {
      "cell_type": "code",
      "metadata": {
        "colab": {
          "base_uri": "https://localhost:8080/"
        },
        "id": "lnJLYI26RwNB",
        "outputId": "4b02ea92-c252-4949-e8ba-cf99bc0a91fc"
      },
      "source": [
        "print(texto_2)"
      ],
      "execution_count": 70,
      "outputs": [
        {
          "output_type": "stream",
          "name": "stdout",
          "text": [
            "Usualmente aquí se escribe \"Hola Mundo\"\n"
          ]
        }
      ]
    },
    {
      "cell_type": "markdown",
      "metadata": {
        "id": "AJvpnYqMRwNB"
      },
      "source": [
        "Para leer un texto del teclado puede usarse `input`"
      ]
    },
    {
      "cell_type": "code",
      "metadata": {
        "colab": {
          "base_uri": "https://localhost:8080/",
          "height": 1000
        },
        "id": "aT1KiJ7CRwNB",
        "outputId": "c30a98fa-bb82-4707-ad7f-a2d1137c352a"
      },
      "source": [
        "texto_3 = input('Piense un dígito y escríbalo: ')\n",
        "print('El dígito que pensó por 11 es:',texto_3*2)"
      ],
      "execution_count": 71,
      "outputs": [
        {
          "output_type": "error",
          "ename": "KeyboardInterrupt",
          "evalue": "ignored",
          "traceback": [
            "\u001b[0;31m---------------------------------------------------------------------------\u001b[0m",
            "\u001b[0;31mKeyboardInterrupt\u001b[0m                         Traceback (most recent call last)",
            "\u001b[0;32m/usr/local/lib/python3.7/dist-packages/ipykernel/kernelbase.py\u001b[0m in \u001b[0;36m_input_request\u001b[0;34m(self, prompt, ident, parent, password)\u001b[0m\n\u001b[1;32m    728\u001b[0m             \u001b[0;32mtry\u001b[0m\u001b[0;34m:\u001b[0m\u001b[0;34m\u001b[0m\u001b[0;34m\u001b[0m\u001b[0m\n\u001b[0;32m--> 729\u001b[0;31m                 \u001b[0mident\u001b[0m\u001b[0;34m,\u001b[0m \u001b[0mreply\u001b[0m \u001b[0;34m=\u001b[0m \u001b[0mself\u001b[0m\u001b[0;34m.\u001b[0m\u001b[0msession\u001b[0m\u001b[0;34m.\u001b[0m\u001b[0mrecv\u001b[0m\u001b[0;34m(\u001b[0m\u001b[0mself\u001b[0m\u001b[0;34m.\u001b[0m\u001b[0mstdin_socket\u001b[0m\u001b[0;34m,\u001b[0m \u001b[0;36m0\u001b[0m\u001b[0;34m)\u001b[0m\u001b[0;34m\u001b[0m\u001b[0;34m\u001b[0m\u001b[0m\n\u001b[0m\u001b[1;32m    730\u001b[0m             \u001b[0;32mexcept\u001b[0m \u001b[0mException\u001b[0m\u001b[0;34m:\u001b[0m\u001b[0;34m\u001b[0m\u001b[0;34m\u001b[0m\u001b[0m\n",
            "\u001b[0;32m/usr/local/lib/python3.7/dist-packages/jupyter_client/session.py\u001b[0m in \u001b[0;36mrecv\u001b[0;34m(self, socket, mode, content, copy)\u001b[0m\n\u001b[1;32m    802\u001b[0m         \u001b[0;32mtry\u001b[0m\u001b[0;34m:\u001b[0m\u001b[0;34m\u001b[0m\u001b[0;34m\u001b[0m\u001b[0m\n\u001b[0;32m--> 803\u001b[0;31m             \u001b[0mmsg_list\u001b[0m \u001b[0;34m=\u001b[0m \u001b[0msocket\u001b[0m\u001b[0;34m.\u001b[0m\u001b[0mrecv_multipart\u001b[0m\u001b[0;34m(\u001b[0m\u001b[0mmode\u001b[0m\u001b[0;34m,\u001b[0m \u001b[0mcopy\u001b[0m\u001b[0;34m=\u001b[0m\u001b[0mcopy\u001b[0m\u001b[0;34m)\u001b[0m\u001b[0;34m\u001b[0m\u001b[0;34m\u001b[0m\u001b[0m\n\u001b[0m\u001b[1;32m    804\u001b[0m         \u001b[0;32mexcept\u001b[0m \u001b[0mzmq\u001b[0m\u001b[0;34m.\u001b[0m\u001b[0mZMQError\u001b[0m \u001b[0;32mas\u001b[0m \u001b[0me\u001b[0m\u001b[0;34m:\u001b[0m\u001b[0;34m\u001b[0m\u001b[0;34m\u001b[0m\u001b[0m\n",
            "\u001b[0;32m/usr/local/lib/python3.7/dist-packages/zmq/sugar/socket.py\u001b[0m in \u001b[0;36mrecv_multipart\u001b[0;34m(self, flags, copy, track)\u001b[0m\n\u001b[1;32m    624\u001b[0m         \"\"\"\n\u001b[0;32m--> 625\u001b[0;31m         \u001b[0mparts\u001b[0m \u001b[0;34m=\u001b[0m \u001b[0;34m[\u001b[0m\u001b[0mself\u001b[0m\u001b[0;34m.\u001b[0m\u001b[0mrecv\u001b[0m\u001b[0;34m(\u001b[0m\u001b[0mflags\u001b[0m\u001b[0;34m,\u001b[0m \u001b[0mcopy\u001b[0m\u001b[0;34m=\u001b[0m\u001b[0mcopy\u001b[0m\u001b[0;34m,\u001b[0m \u001b[0mtrack\u001b[0m\u001b[0;34m=\u001b[0m\u001b[0mtrack\u001b[0m\u001b[0;34m)\u001b[0m\u001b[0;34m]\u001b[0m\u001b[0;34m\u001b[0m\u001b[0;34m\u001b[0m\u001b[0m\n\u001b[0m\u001b[1;32m    626\u001b[0m         \u001b[0;31m# have first part already, only loop while more to receive\u001b[0m\u001b[0;34m\u001b[0m\u001b[0;34m\u001b[0m\u001b[0;34m\u001b[0m\u001b[0m\n",
            "\u001b[0;32mzmq/backend/cython/socket.pyx\u001b[0m in \u001b[0;36mzmq.backend.cython.socket.Socket.recv\u001b[0;34m()\u001b[0m\n",
            "\u001b[0;32mzmq/backend/cython/socket.pyx\u001b[0m in \u001b[0;36mzmq.backend.cython.socket.Socket.recv\u001b[0;34m()\u001b[0m\n",
            "\u001b[0;32mzmq/backend/cython/socket.pyx\u001b[0m in \u001b[0;36mzmq.backend.cython.socket._recv_copy\u001b[0;34m()\u001b[0m\n",
            "\u001b[0;32m/usr/local/lib/python3.7/dist-packages/zmq/backend/cython/checkrc.pxd\u001b[0m in \u001b[0;36mzmq.backend.cython.checkrc._check_rc\u001b[0;34m()\u001b[0m\n",
            "\u001b[0;31mKeyboardInterrupt\u001b[0m: ",
            "\nDuring handling of the above exception, another exception occurred:\n",
            "\u001b[0;31mKeyboardInterrupt\u001b[0m                         Traceback (most recent call last)",
            "\u001b[0;32m<ipython-input-71-b0c85c809719>\u001b[0m in \u001b[0;36m<module>\u001b[0;34m()\u001b[0m\n\u001b[0;32m----> 1\u001b[0;31m \u001b[0mtexto_3\u001b[0m \u001b[0;34m=\u001b[0m \u001b[0minput\u001b[0m\u001b[0;34m(\u001b[0m\u001b[0;34m'Piense un dígito y escríbalo: '\u001b[0m\u001b[0;34m)\u001b[0m\u001b[0;34m\u001b[0m\u001b[0;34m\u001b[0m\u001b[0m\n\u001b[0m\u001b[1;32m      2\u001b[0m \u001b[0mprint\u001b[0m\u001b[0;34m(\u001b[0m\u001b[0;34m'El dígito que pensó por 11 es:'\u001b[0m\u001b[0;34m,\u001b[0m\u001b[0mtexto_3\u001b[0m\u001b[0;34m*\u001b[0m\u001b[0;36m2\u001b[0m\u001b[0;34m)\u001b[0m\u001b[0;34m\u001b[0m\u001b[0;34m\u001b[0m\u001b[0m\n",
            "\u001b[0;32m/usr/local/lib/python3.7/dist-packages/ipykernel/kernelbase.py\u001b[0m in \u001b[0;36mraw_input\u001b[0;34m(self, prompt)\u001b[0m\n\u001b[1;32m    702\u001b[0m             \u001b[0mself\u001b[0m\u001b[0;34m.\u001b[0m\u001b[0m_parent_ident\u001b[0m\u001b[0;34m,\u001b[0m\u001b[0;34m\u001b[0m\u001b[0;34m\u001b[0m\u001b[0m\n\u001b[1;32m    703\u001b[0m             \u001b[0mself\u001b[0m\u001b[0;34m.\u001b[0m\u001b[0m_parent_header\u001b[0m\u001b[0;34m,\u001b[0m\u001b[0;34m\u001b[0m\u001b[0;34m\u001b[0m\u001b[0m\n\u001b[0;32m--> 704\u001b[0;31m             \u001b[0mpassword\u001b[0m\u001b[0;34m=\u001b[0m\u001b[0;32mFalse\u001b[0m\u001b[0;34m,\u001b[0m\u001b[0;34m\u001b[0m\u001b[0;34m\u001b[0m\u001b[0m\n\u001b[0m\u001b[1;32m    705\u001b[0m         )\n\u001b[1;32m    706\u001b[0m \u001b[0;34m\u001b[0m\u001b[0m\n",
            "\u001b[0;32m/usr/local/lib/python3.7/dist-packages/ipykernel/kernelbase.py\u001b[0m in \u001b[0;36m_input_request\u001b[0;34m(self, prompt, ident, parent, password)\u001b[0m\n\u001b[1;32m    732\u001b[0m             \u001b[0;32mexcept\u001b[0m \u001b[0mKeyboardInterrupt\u001b[0m\u001b[0;34m:\u001b[0m\u001b[0;34m\u001b[0m\u001b[0;34m\u001b[0m\u001b[0m\n\u001b[1;32m    733\u001b[0m                 \u001b[0;31m# re-raise KeyboardInterrupt, to truncate traceback\u001b[0m\u001b[0;34m\u001b[0m\u001b[0;34m\u001b[0m\u001b[0;34m\u001b[0m\u001b[0m\n\u001b[0;32m--> 734\u001b[0;31m                 \u001b[0;32mraise\u001b[0m \u001b[0mKeyboardInterrupt\u001b[0m\u001b[0;34m\u001b[0m\u001b[0;34m\u001b[0m\u001b[0m\n\u001b[0m\u001b[1;32m    735\u001b[0m             \u001b[0;32melse\u001b[0m\u001b[0;34m:\u001b[0m\u001b[0;34m\u001b[0m\u001b[0;34m\u001b[0m\u001b[0m\n\u001b[1;32m    736\u001b[0m                 \u001b[0;32mbreak\u001b[0m\u001b[0;34m\u001b[0m\u001b[0;34m\u001b[0m\u001b[0m\n",
            "\u001b[0;31mKeyboardInterrupt\u001b[0m: "
          ]
        }
      ]
    },
    {
      "cell_type": "markdown",
      "metadata": {
        "id": "399qExTVRwNB"
      },
      "source": [
        "## `iterable`\n",
        "`tuple`, `list` y `str` son subtipos del tipo de dato `iterable`, sobre el cual se pueden aplicar algunas funciones"
      ]
    },
    {
      "cell_type": "markdown",
      "metadata": {
        "id": "TVDK5aA3RwNC"
      },
      "source": [
        "## `len`\n",
        "La función incorporada de python `len` indica la cantidad de elementos de un iterable"
      ]
    },
    {
      "cell_type": "markdown",
      "metadata": {
        "id": "ZDQsznqoRwNC"
      },
      "source": [
        "La función `len` permite conocer la cantidad de elementos de una tupla o una lista"
      ]
    },
    {
      "cell_type": "code",
      "metadata": {
        "id": "OCMf1Ib4RwNC"
      },
      "source": [
        "len([2,6,2,7,2,9,2])"
      ],
      "execution_count": null,
      "outputs": []
    },
    {
      "cell_type": "code",
      "metadata": {
        "id": "ZZwcUWXHRwNC"
      },
      "source": [
        "len((2,6,2,7,2)) # en este caso es necesario encerrar la tupla entre paréntesis para indicar que sólo hay un argumento en la función"
      ],
      "execution_count": null,
      "outputs": []
    },
    {
      "cell_type": "code",
      "metadata": {
        "id": "ExfmRQ7yRwNC"
      },
      "source": [
        "len(texto_1)"
      ],
      "execution_count": null,
      "outputs": []
    },
    {
      "cell_type": "markdown",
      "metadata": {
        "id": "IRpA23N_RwNC"
      },
      "source": [
        "# in \n",
        "Determina si un elemento está en un iterable"
      ]
    },
    {
      "cell_type": "code",
      "metadata": {
        "colab": {
          "base_uri": "https://localhost:8080/"
        },
        "id": "0B68EjZvRwND",
        "outputId": "befaecdf-d2cf-4743-84a8-bc67fa903b6e"
      },
      "source": [
        "2 in (3,5,6)"
      ],
      "execution_count": 72,
      "outputs": [
        {
          "output_type": "execute_result",
          "data": {
            "text/plain": [
              "False"
            ]
          },
          "metadata": {},
          "execution_count": 72
        }
      ]
    },
    {
      "cell_type": "code",
      "metadata": {
        "colab": {
          "base_uri": "https://localhost:8080/"
        },
        "id": "GaVfP5VIRwND",
        "outputId": "bbe6897f-ffbc-43bf-e7c9-34c9cac51a14"
      },
      "source": [
        "5 in [3,5,6]"
      ],
      "execution_count": 73,
      "outputs": [
        {
          "output_type": "execute_result",
          "data": {
            "text/plain": [
              "True"
            ]
          },
          "metadata": {},
          "execution_count": 73
        }
      ]
    },
    {
      "cell_type": "code",
      "metadata": {
        "colab": {
          "base_uri": "https://localhost:8080/"
        },
        "id": "gvJ00VWORwND",
        "outputId": "066a57ab-6014-4839-cc31-24a8e46e2d13"
      },
      "source": [
        "'l' in 'hola'"
      ],
      "execution_count": 74,
      "outputs": [
        {
          "output_type": "execute_result",
          "data": {
            "text/plain": [
              "True"
            ]
          },
          "metadata": {},
          "execution_count": 74
        }
      ]
    },
    {
      "cell_type": "markdown",
      "metadata": {
        "id": "Hnz6TF5FRwND"
      },
      "source": [
        "# `range`\n",
        "La función incorporada de Python `range`, permite generar un rango de números"
      ]
    },
    {
      "cell_type": "code",
      "metadata": {
        "colab": {
          "base_uri": "https://localhost:8080/"
        },
        "id": "wYdcE7JJRwND",
        "outputId": "d9cfd0dd-3452-4a35-a85e-e92046e7cc38"
      },
      "source": [
        "list(range(3))"
      ],
      "execution_count": 75,
      "outputs": [
        {
          "output_type": "execute_result",
          "data": {
            "text/plain": [
              "[0, 1, 2]"
            ]
          },
          "metadata": {},
          "execution_count": 75
        }
      ]
    },
    {
      "cell_type": "code",
      "metadata": {
        "colab": {
          "base_uri": "https://localhost:8080/"
        },
        "id": "owyUzj7BRwNE",
        "outputId": "32ee7a4d-cd2e-4edc-8195-e3961fc0e490"
      },
      "source": [
        "tuple(range(10))"
      ],
      "execution_count": 76,
      "outputs": [
        {
          "output_type": "execute_result",
          "data": {
            "text/plain": [
              "(0, 1, 2, 3, 4, 5, 6, 7, 8, 9)"
            ]
          },
          "metadata": {},
          "execution_count": 76
        }
      ]
    },
    {
      "cell_type": "code",
      "metadata": {
        "colab": {
          "base_uri": "https://localhost:8080/"
        },
        "id": "-wHGxf7yRwNF",
        "outputId": "f48d72b1-37bf-4616-ce97-9e6859821988"
      },
      "source": [
        "tuple(range(2,10,3))"
      ],
      "execution_count": 77,
      "outputs": [
        {
          "output_type": "execute_result",
          "data": {
            "text/plain": [
              "(2, 5, 8)"
            ]
          },
          "metadata": {},
          "execution_count": 77
        }
      ]
    },
    {
      "cell_type": "markdown",
      "metadata": {
        "id": "_WI0NEB3RwNG"
      },
      "source": [
        "# `for` variable `in` iterable:"
      ]
    },
    {
      "cell_type": "code",
      "metadata": {
        "colab": {
          "base_uri": "https://localhost:8080/"
        },
        "id": "Ixmm8FrhRwNG",
        "outputId": "8858ca52-966a-4b89-f95d-121a83a0616d"
      },
      "source": [
        "for i in range(4):\n",
        "    print(i)"
      ],
      "execution_count": 78,
      "outputs": [
        {
          "output_type": "stream",
          "name": "stdout",
          "text": [
            "0\n",
            "1\n",
            "2\n",
            "3\n"
          ]
        }
      ]
    },
    {
      "cell_type": "code",
      "metadata": {
        "colab": {
          "base_uri": "https://localhost:8080/"
        },
        "id": "GnbPVUr7RwNG",
        "outputId": "bd274aa3-2eac-4840-ab32-ccfef39d855a"
      },
      "source": [
        "for i in 'hola':\n",
        "    print(i)"
      ],
      "execution_count": 79,
      "outputs": [
        {
          "output_type": "stream",
          "name": "stdout",
          "text": [
            "h\n",
            "o\n",
            "l\n",
            "a\n"
          ]
        }
      ]
    },
    {
      "cell_type": "code",
      "metadata": {
        "colab": {
          "base_uri": "https://localhost:8080/"
        },
        "id": "oSdILNNwRwNG",
        "outputId": "78c711b3-6713-4a2f-f1ba-e1a42c41fab1"
      },
      "source": [
        "for i in [8,4,7]:\n",
        "    print(i)"
      ],
      "execution_count": 80,
      "outputs": [
        {
          "output_type": "stream",
          "name": "stdout",
          "text": [
            "8\n",
            "4\n",
            "7\n"
          ]
        }
      ]
    },
    {
      "cell_type": "code",
      "metadata": {
        "colab": {
          "base_uri": "https://localhost:8080/"
        },
        "id": "GMZ5N3Z2RwNG",
        "outputId": "83676a25-9cb4-402a-8db9-a631de7286be"
      },
      "source": [
        "for i in [(3,4,5),[7,8,4],'hola']:\n",
        "    print(i)"
      ],
      "execution_count": 81,
      "outputs": [
        {
          "output_type": "stream",
          "name": "stdout",
          "text": [
            "(3, 4, 5)\n",
            "[7, 8, 4]\n",
            "hola\n"
          ]
        }
      ]
    },
    {
      "cell_type": "code",
      "metadata": {
        "colab": {
          "base_uri": "https://localhost:8080/"
        },
        "id": "EosYX96PRwNH",
        "outputId": "20dc2919-e86b-4e6f-c3b0-320f8a27e2d3"
      },
      "source": [
        "for i in 'uno','dos','tres':\n",
        "    print(i)"
      ],
      "execution_count": 82,
      "outputs": [
        {
          "output_type": "stream",
          "name": "stdout",
          "text": [
            "uno\n",
            "dos\n",
            "tres\n"
          ]
        }
      ]
    },
    {
      "cell_type": "markdown",
      "metadata": {
        "id": "Lns4T_zbRwNH"
      },
      "source": [
        "#  `open` `.readline` `close`\n",
        "Estas 3 instrucciones permiten leer las 'líneas' de un archivo y las pasa a una lista de `str`."
      ]
    },
    {
      "cell_type": "code",
      "metadata": {
        "colab": {
          "base_uri": "https://localhost:8080/"
        },
        "id": "qCABfc8URwNH",
        "outputId": "f67da3f1-3d20-4dde-bca2-620d03caaf30"
      },
      "source": [
        "archivo  = open('palabras500.csv', encoding=\"utf-8\")\n",
        "lineas = archivo.readlines()\n",
        "archivo.close()\n",
        "\n",
        "len(lineas)"
      ],
      "execution_count": 91,
      "outputs": [
        {
          "output_type": "execute_result",
          "data": {
            "text/plain": [
              "500"
            ]
          },
          "metadata": {},
          "execution_count": 91
        }
      ]
    },
    {
      "cell_type": "code",
      "metadata": {
        "colab": {
          "base_uri": "https://localhost:8080/",
          "height": 36
        },
        "id": "19EvET9ARwNH",
        "outputId": "46068e52-2ecd-4696-d1af-251c2c08ec9f"
      },
      "source": [
        "lineas[0]"
      ],
      "execution_count": 92,
      "outputs": [
        {
          "output_type": "execute_result",
          "data": {
            "application/vnd.google.colaboratory.intrinsic+json": {
              "type": "string"
            },
            "text/plain": [
              "'de\\n'"
            ]
          },
          "metadata": {},
          "execution_count": 92
        }
      ]
    },
    {
      "cell_type": "code",
      "metadata": {
        "colab": {
          "base_uri": "https://localhost:8080/",
          "height": 36
        },
        "id": "gW9EImvKRwNI",
        "outputId": "12473c11-9dac-4c4e-94da-dda0973e5cf0"
      },
      "source": [
        "lineas[1]"
      ],
      "execution_count": 93,
      "outputs": [
        {
          "output_type": "execute_result",
          "data": {
            "application/vnd.google.colaboratory.intrinsic+json": {
              "type": "string"
            },
            "text/plain": [
              "'la\\n'"
            ]
          },
          "metadata": {},
          "execution_count": 93
        }
      ]
    },
    {
      "cell_type": "code",
      "metadata": {
        "colab": {
          "base_uri": "https://localhost:8080/",
          "height": 36
        },
        "id": "kk15URf7RwNI",
        "outputId": "ee93276e-b832-4d61-d100-668f54fde1e4"
      },
      "source": [
        "lineas[499]"
      ],
      "execution_count": 94,
      "outputs": [
        {
          "output_type": "execute_result",
          "data": {
            "application/vnd.google.colaboratory.intrinsic+json": {
              "type": "string"
            },
            "text/plain": [
              "'serán\\n'"
            ]
          },
          "metadata": {},
          "execution_count": 94
        }
      ]
    },
    {
      "cell_type": "code",
      "metadata": {
        "colab": {
          "base_uri": "https://localhost:8080/"
        },
        "id": "mw-znIe5RwNI",
        "outputId": "3dbdbe4c-3498-4a4f-85c9-b64a0e3b3396"
      },
      "source": [
        "palabra  = input('Escriba una palabra: ')\n",
        "if palabra+'\\n' in lineas:\n",
        "    print('Sí es de las 500 más comunes')\n",
        "else:\n",
        "    print('No es de las 500 más comunes')"
      ],
      "execution_count": 96,
      "outputs": [
        {
          "output_type": "stream",
          "name": "stdout",
          "text": [
            "Escriba una palabra: serán\n",
            "Sí es de las 500 más comunes\n"
          ]
        }
      ]
    },
    {
      "cell_type": "markdown",
      "metadata": {
        "id": "aTqsleUERwNJ"
      },
      "source": [
        "# Reto\n",
        "Realice una función `rima` que encuentre las palabras que finalizan según el parámetro."
      ]
    },
    {
      "cell_type": "code",
      "metadata": {
        "id": "4QLA2zRORwNK"
      },
      "source": [
        "def rima(final):\n",
        "    final=final+'\\n' \n",
        "    for i in lineas:\n",
        "      if final in i:\n",
        "        print(i)\n",
        "      \n",
        "    "
      ],
      "execution_count": 126,
      "outputs": []
    },
    {
      "cell_type": "code",
      "metadata": {
        "colab": {
          "base_uri": "https://localhost:8080/"
        },
        "id": "FZfoTug0RwNK",
        "outputId": "c6bb7a8e-c43e-4eee-9e9f-657b1d1f9518"
      },
      "source": [
        "rima('co')"
      ],
      "execution_count": 130,
      "outputs": [
        {
          "output_type": "stream",
          "name": "stdout",
          "text": [
            "poco\n",
            "\n",
            "público\n",
            "\n",
            "méxico\n",
            "\n",
            "cinco\n",
            "\n",
            "marco\n",
            "\n"
          ]
        }
      ]
    },
    {
      "cell_type": "markdown",
      "metadata": {
        "id": "RGtNGXkHRwNK"
      },
      "source": [
        "# `type`\n",
        "`type` permite saber el tipo de una variable "
      ]
    },
    {
      "cell_type": "code",
      "metadata": {
        "colab": {
          "base_uri": "https://localhost:8080/"
        },
        "id": "phP-6-3MRwNK",
        "outputId": "ecae9117-1937-4b60-e2aa-69212431c83c"
      },
      "source": [
        "type(1.0)"
      ],
      "execution_count": 83,
      "outputs": [
        {
          "output_type": "execute_result",
          "data": {
            "text/plain": [
              "float"
            ]
          },
          "metadata": {},
          "execution_count": 83
        }
      ]
    },
    {
      "cell_type": "code",
      "metadata": {
        "colab": {
          "base_uri": "https://localhost:8080/"
        },
        "id": "aBO3ES-1RwNK",
        "outputId": "6e1c5433-331c-41a0-ae8b-671efd641b99"
      },
      "source": [
        "type(1)"
      ],
      "execution_count": 84,
      "outputs": [
        {
          "output_type": "execute_result",
          "data": {
            "text/plain": [
              "int"
            ]
          },
          "metadata": {},
          "execution_count": 84
        }
      ]
    },
    {
      "cell_type": "code",
      "metadata": {
        "colab": {
          "base_uri": "https://localhost:8080/"
        },
        "id": "OKdqMzteRwNL",
        "outputId": "83ed3018-3187-4b99-ec55-21e52daedbc3"
      },
      "source": [
        "type(True)"
      ],
      "execution_count": 85,
      "outputs": [
        {
          "output_type": "execute_result",
          "data": {
            "text/plain": [
              "bool"
            ]
          },
          "metadata": {},
          "execution_count": 85
        }
      ]
    },
    {
      "cell_type": "code",
      "metadata": {
        "id": "PfTKaB5yRwNL"
      },
      "source": [
        "type((1.0, 1, True))"
      ],
      "execution_count": null,
      "outputs": []
    },
    {
      "cell_type": "code",
      "metadata": {
        "id": "Ws-_Oz0RRwNL"
      },
      "source": [
        "type([1.0, 1, True])"
      ],
      "execution_count": null,
      "outputs": []
    },
    {
      "cell_type": "code",
      "metadata": {
        "id": "Eqg5K6d1RwNL"
      },
      "source": [
        "type('Adivina mi tipo')"
      ],
      "execution_count": null,
      "outputs": []
    },
    {
      "cell_type": "code",
      "metadata": {
        "id": "scEc_8YqRwNM"
      },
      "source": [
        "type(max)"
      ],
      "execution_count": null,
      "outputs": []
    },
    {
      "cell_type": "code",
      "metadata": {
        "id": "i7OnaX7wRwNM"
      },
      "source": [
        "type(conv_automoviles_y_ciclas_en_ruedas)"
      ],
      "execution_count": null,
      "outputs": []
    },
    {
      "cell_type": "code",
      "metadata": {
        "id": "WLjRE8biRwNM"
      },
      "source": [
        "type(str)"
      ],
      "execution_count": null,
      "outputs": []
    },
    {
      "cell_type": "code",
      "metadata": {
        "id": "vglO_FqORwNN"
      },
      "source": [
        "a=5\n",
        "type(a)"
      ],
      "execution_count": null,
      "outputs": []
    },
    {
      "cell_type": "markdown",
      "metadata": {
        "id": "nEszWXr-RwNN"
      },
      "source": [
        "# `None`\n",
        "`None` es un objeto de Python que se usa cuando queremos indicar que nuestra variable no tiene ningún objeto válido. El tipo asociado es `NoneType`"
      ]
    },
    {
      "cell_type": "code",
      "metadata": {
        "colab": {
          "base_uri": "https://localhost:8080/"
        },
        "id": "Ws-XddZ6RwNN",
        "outputId": "ae64728e-6a56-4a5d-c2f7-1b533b7a8a73"
      },
      "source": [
        "type(None)"
      ],
      "execution_count": 86,
      "outputs": [
        {
          "output_type": "execute_result",
          "data": {
            "text/plain": [
              "NoneType"
            ]
          },
          "metadata": {},
          "execution_count": 86
        }
      ]
    },
    {
      "cell_type": "code",
      "metadata": {
        "colab": {
          "base_uri": "https://localhost:8080/"
        },
        "id": "-bOltI6pRwNN",
        "outputId": "c0cc9b24-b29d-40f1-ed55-b1643f2619c0"
      },
      "source": [
        "bool(None)"
      ],
      "execution_count": 87,
      "outputs": [
        {
          "output_type": "execute_result",
          "data": {
            "text/plain": [
              "False"
            ]
          },
          "metadata": {},
          "execution_count": 87
        }
      ]
    },
    {
      "cell_type": "code",
      "metadata": {
        "id": "q_QQE-gzRwNN"
      },
      "source": [
        "#int(None)"
      ],
      "execution_count": 88,
      "outputs": []
    },
    {
      "cell_type": "code",
      "metadata": {
        "id": "C2hzfukxRwNO"
      },
      "source": [
        "#float(None)"
      ],
      "execution_count": 89,
      "outputs": []
    },
    {
      "cell_type": "code",
      "metadata": {
        "colab": {
          "base_uri": "https://localhost:8080/",
          "height": 165
        },
        "id": "UHS0pSk2RwNO",
        "outputId": "29e45de6-6117-436f-b4ae-c129933e6fe2"
      },
      "source": [
        "str(None)"
      ],
      "execution_count": 90,
      "outputs": [
        {
          "output_type": "execute_result",
          "data": {
            "application/vnd.google.colaboratory.intrinsic+json": {
              "type": "string"
            },
            "text/plain": [
              "'None'"
            ]
          },
          "metadata": {},
          "execution_count": 90
        }
      ]
    },
    {
      "cell_type": "markdown",
      "metadata": {
        "id": "wHwH786QRwNO"
      },
      "source": [
        "# `pass`\n",
        "Esta sentencia no realiza nada. Usualmente se usa durante el desarrollo de un programa, para indicar que un bloque está pendiente de realizar, y así evitar que se genere un error."
      ]
    },
    {
      "cell_type": "code",
      "metadata": {
        "id": "vJ7IvtrsRwNP"
      },
      "source": [
        "def pasos_para_vivir_sin_problemas(nombre):\n",
        "    pass\n",
        "\n",
        "pasos_para_vivir_sin_problemas('yo')"
      ],
      "execution_count": null,
      "outputs": []
    },
    {
      "cell_type": "code",
      "metadata": {
        "id": "J7hTKFLHRwNP"
      },
      "source": [
        "#def pasos_para_vivir_sin_problemas(nombre):\n",
        "#\n",
        "#pasos_para_vivir_sin_problemas('yo')"
      ],
      "execution_count": null,
      "outputs": []
    },
    {
      "cell_type": "code",
      "metadata": {
        "id": "64ZFdPx2RwNP"
      },
      "source": [
        ""
      ],
      "execution_count": null,
      "outputs": []
    },
    {
      "cell_type": "code",
      "metadata": {
        "id": "mxnz2bEqRwNP"
      },
      "source": [
        ""
      ],
      "execution_count": null,
      "outputs": []
    },
    {
      "cell_type": "code",
      "metadata": {
        "id": "duZfrprvRwNP"
      },
      "source": [
        ""
      ],
      "execution_count": null,
      "outputs": []
    },
    {
      "cell_type": "code",
      "metadata": {
        "id": "0ic4QafORwNQ"
      },
      "source": [
        ""
      ],
      "execution_count": null,
      "outputs": []
    },
    {
      "cell_type": "code",
      "metadata": {
        "id": "TzyZomJVRwNQ"
      },
      "source": [
        ""
      ],
      "execution_count": null,
      "outputs": []
    },
    {
      "cell_type": "markdown",
      "metadata": {
        "id": "l2eBJ0SwRwNQ"
      },
      "source": [
        "# Reto 2\n",
        "Realice una función `promedio` que encuentre el promedio de una tupla o una lista "
      ]
    },
    {
      "cell_type": "markdown",
      "metadata": {
        "id": "-vUnqbp9RwNQ"
      },
      "source": [
        "# Ejemplo de promedio\n",
        "A continuación, haremos dos ejemplos para calcular el promedio \n",
        "\n",
        "$promedio(v)= \\frac{1}{n} \\sum_{i=1}^n v_i$\n",
        "\n",
        "donde $\\vec{v}=\\left(\\matrix{v_1\\\\v_2\\\\ \\vdots \\\\v_n}\\right)$"
      ]
    },
    {
      "cell_type": "code",
      "metadata": {
        "id": "LwureIisRwNQ"
      },
      "source": [
        "def promedio_1(numeros):\n",
        "    acumulador = 0\n",
        "    for numero in numeros:\n",
        "        acumulador = acumulador + numero\n",
        "    return acumulador/len(numeros)"
      ],
      "execution_count": null,
      "outputs": []
    },
    {
      "cell_type": "code",
      "metadata": {
        "id": "aGZyTQ0xRwNR"
      },
      "source": [
        "u"
      ],
      "execution_count": null,
      "outputs": []
    },
    {
      "cell_type": "code",
      "metadata": {
        "id": "cxwzqfHTRwNR"
      },
      "source": [
        "promedio_1(u)"
      ],
      "execution_count": null,
      "outputs": []
    },
    {
      "cell_type": "code",
      "metadata": {
        "id": "5qIm7jUpRwNS"
      },
      "source": [
        "v"
      ],
      "execution_count": null,
      "outputs": []
    },
    {
      "cell_type": "code",
      "metadata": {
        "id": "X32zEfVsRwNS"
      },
      "source": [
        "promedio_1(v)"
      ],
      "execution_count": null,
      "outputs": []
    },
    {
      "cell_type": "code",
      "metadata": {
        "id": "s7Gn8_xyRwNS"
      },
      "source": [
        "def promedio_2(numeros):\n",
        "    acumulador = 0\n",
        "    for i in range(len(numeros)):\n",
        "        acumulador = acumulador + numeros[i]\n",
        "    return acumulador/len(numeros)"
      ],
      "execution_count": null,
      "outputs": []
    },
    {
      "cell_type": "code",
      "metadata": {
        "id": "oUBDROI5RwNS"
      },
      "source": [
        "u"
      ],
      "execution_count": null,
      "outputs": []
    },
    {
      "cell_type": "code",
      "metadata": {
        "id": "XRyvhQq1RwNS"
      },
      "source": [
        "promedio_2(u)"
      ],
      "execution_count": null,
      "outputs": []
    },
    {
      "cell_type": "code",
      "metadata": {
        "id": "9imI1jBCRwNS"
      },
      "source": [
        "v"
      ],
      "execution_count": null,
      "outputs": []
    },
    {
      "cell_type": "code",
      "metadata": {
        "id": "GvdH1FI-RwNT"
      },
      "source": [
        "promedio_2(v)"
      ],
      "execution_count": null,
      "outputs": []
    },
    {
      "cell_type": "code",
      "metadata": {
        "id": "BFGMY8ymRwNT"
      },
      "source": [
        ""
      ],
      "execution_count": null,
      "outputs": []
    },
    {
      "cell_type": "code",
      "metadata": {
        "id": "IR0kNRIuRwNT"
      },
      "source": [
        ""
      ],
      "execution_count": null,
      "outputs": []
    }
  ]
}